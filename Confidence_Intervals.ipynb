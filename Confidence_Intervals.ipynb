{
  "nbformat": 4,
  "nbformat_minor": 0,
  "metadata": {
    "colab": {
      "provenance": [],
      "authorship_tag": "ABX9TyO/dg8w7iIfW8C89VPfmmoc"
    },
    "kernelspec": {
      "name": "python3",
      "display_name": "Python 3"
    },
    "language_info": {
      "name": "python"
    }
  },
  "cells": [
    {
      "cell_type": "code",
      "execution_count": 1,
      "metadata": {
        "id": "GHjilC405ecS"
      },
      "outputs": [],
      "source": [
        "import numpy as np\n",
        "from scipy.stats import norm, t"
      ]
    },
    {
      "cell_type": "code",
      "source": [
        "np.random.seed(1)"
      ],
      "metadata": {
        "id": "mW07pNml5nVS"
      },
      "execution_count": 2,
      "outputs": []
    },
    {
      "cell_type": "code",
      "source": [
        "N=1000\n",
        "mu = 5\n",
        "sigma = 2\n",
        "X = np.random.randn(N)*sigma + mu #inverse standardization procedure"
      ],
      "metadata": {
        "id": "Jq_6dFca5q5C"
      },
      "execution_count": 3,
      "outputs": []
    },
    {
      "cell_type": "code",
      "source": [
        "# z-confidence interval\n",
        "mu_hat = np.mean(X)\n",
        "sigma_hat = np.std(X, ddof = 1)\n",
        "z_left = norm.ppf(0.025)\n",
        "z_right = norm.ppf(0.975)\n",
        "lower = mu_hat + z_left * sigma_hat/np.sqrt(N)\n",
        "upper = mu_hat + z_right * sigma_hat/np.sqrt(N)\n",
        "print(mu_hat, lower, upper)"
      ],
      "metadata": {
        "colab": {
          "base_uri": "https://localhost:8080/"
        },
        "id": "2HF3qlDd50Yn",
        "outputId": "d20331ba-09ef-4f83-a562-9abcdaf559ce"
      },
      "execution_count": 4,
      "outputs": [
        {
          "output_type": "stream",
          "name": "stdout",
          "text": [
            "5.077624952319204 4.955959806754385 5.199290097884023\n"
          ]
        }
      ]
    },
    {
      "cell_type": "code",
      "source": [
        "# t-confidence interval\n",
        "mu_hat = np.mean(X)\n",
        "sigma_hat = np.std(X, ddof = 1)\n",
        "t_left = t.ppf(0.025, df = N-1)\n",
        "t_right = t.ppf(0.975, df = N-1)\n",
        "lower = mu_hat + t_left * sigma_hat/np.sqrt(N)\n",
        "upper = mu_hat + t_right * sigma_hat/np.sqrt(N)\n",
        "print(mu_hat, lower, upper)"
      ],
      "metadata": {
        "colab": {
          "base_uri": "https://localhost:8080/"
        },
        "id": "ejcGRqnu6b8u",
        "outputId": "9b97c091-8a58-410d-97d6-55700e362443"
      },
      "execution_count": 8,
      "outputs": [
        {
          "output_type": "stream",
          "name": "stdout",
          "text": [
            "5.077624952319204 4.9558122244324165 5.199437680205992\n"
          ]
        }
      ]
    },
    {
      "cell_type": "code",
      "source": [
        "# Interpretation of confidence interval\n",
        "# If we do this experiment many times, then for the 95% CI,\n",
        "# the 95% CI should contain the true mean  95% of the time\n",
        "\n",
        "def experiment():\n",
        "  X = np.random.randn(N)*sigma + mu\n",
        "  mu_hat = np.mean(X)\n",
        "  sigma_hat = np.std(X, ddof = 1)\n",
        "  t_left = t.ppf(0.025, df = N-1)\n",
        "  t_right = t.ppf(0.975, df = N-1)\n",
        "  lower = mu_hat + t_left*sigma_hat/np.sqrt(N)\n",
        "  upper = mu_hat + t_right*sigma_hat/np.sqrt(N)\n",
        "  return mu>lower and mu<upper"
      ],
      "metadata": {
        "id": "BF38vPqo7Sym"
      },
      "execution_count": 9,
      "outputs": []
    },
    {
      "cell_type": "code",
      "source": [
        "def multi_experiment(M):\n",
        "  results = [experiment() for i in range(M)]\n",
        "  return np.mean(results)"
      ],
      "metadata": {
        "id": "Ldme9iie81OZ"
      },
      "execution_count": 12,
      "outputs": []
    },
    {
      "cell_type": "code",
      "source": [
        "multi_experiment(10000)"
      ],
      "metadata": {
        "colab": {
          "base_uri": "https://localhost:8080/"
        },
        "id": "kZWndlms9BRC",
        "outputId": "41dcd30d-0378-4dc1-9a14-800b291a4a58"
      },
      "execution_count": 13,
      "outputs": [
        {
          "output_type": "execute_result",
          "data": {
            "text/plain": [
              "0.9522"
            ]
          },
          "metadata": {},
          "execution_count": 13
        }
      ]
    },
    {
      "cell_type": "code",
      "source": [],
      "metadata": {
        "id": "71zj7m8x9Dh6"
      },
      "execution_count": null,
      "outputs": []
    }
  ]
}